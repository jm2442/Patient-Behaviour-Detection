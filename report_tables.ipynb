{
 "metadata": {
  "language_info": {
   "codemirror_mode": {
    "name": "ipython",
    "version": 3
   },
   "file_extension": ".py",
   "mimetype": "text/x-python",
   "name": "python",
   "nbconvert_exporter": "python",
   "pygments_lexer": "ipython3",
   "version": "3.9.0-final"
  },
  "orig_nbformat": 2,
  "kernelspec": {
   "name": "python390jvsc74a57bd04b32d957ae14993447171578449795bdfe8cab497445f399cd6386fc19c465cc",
   "display_name": "Python 3.9.0 64-bit ('fyp-env')"
  }
 },
 "nbformat": 4,
 "nbformat_minor": 2,
 "cells": [
  {
   "cell_type": "code",
   "execution_count": 4,
   "metadata": {},
   "outputs": [],
   "source": [
    "'''A script to retrieve and prep the patient data into a form ready for preprocessing steps'''\n",
    "\n",
    "import os.path\n",
    "import pandas as pd\n",
    "import matplotlib.pyplot as plt\n",
    "import numpy as np\n",
    "import datetime\n",
    "from control_data import compute_angle_derivs\n",
    "from sklearn.preprocessing import MinMaxScaler\n",
    "from patient_data import data_extractor, data_filterer, backlock_remover\n",
    "from control_data import resampler"
   ]
  },
  {
   "cell_type": "code",
   "execution_count": 3,
   "metadata": {},
   "outputs": [
    {
     "output_type": "stream",
     "name": "stdout",
     "text": [
      "Milliseconds                     float64\n",
      "Backrest Load Cell Force / N     float64\n",
      "Backrest Angle / Deg             float64\n",
      "Left Hip Load Cell Force / N     float64\n",
      "Right Hip Load Cell Force / N    float64\n",
      "Left Hip Angle / Deg             float64\n",
      "Right Hip Angle / Deg            float64\n",
      "Left Knee Angle / Deg            float64\n",
      "Date                              object\n",
      "Time                              object\n",
      "dtype: object\n",
      "       back_angle  left_angle  right_angle                Date\n",
      "0            10.0        18.6         5.33 2011-12-01 11:04:05\n",
      "1            10.3        18.5         4.25 2011-12-01 11:04:05\n",
      "2            10.6        18.4         4.25 2011-12-01 11:04:05\n",
      "3            11.0        18.2         4.30 2011-12-01 11:04:05\n",
      "4            11.4        17.8         4.25 2011-12-01 11:04:05\n",
      "...           ...         ...          ...                 ...\n",
      "64183        11.9        10.9        27.80 2011-12-01 11:57:34\n",
      "64184        11.9        10.9        27.70 2011-12-01 11:57:34\n",
      "64185        11.8        10.9        27.60 2011-12-01 11:57:34\n",
      "64186        11.8        10.9        27.60 2011-12-01 11:57:34\n",
      "64187        11.8        10.9        27.60 2011-12-01 11:57:34\n",
      "\n",
      "[64188 rows x 4 columns]\n",
      "back_angle            float64\n",
      "left_angle            float64\n",
      "right_angle           float64\n",
      "Date           datetime64[ns]\n",
      "dtype: object\n"
     ]
    },
    {
     "output_type": "execute_result",
     "data": {
      "text/plain": [
       "         back_angle    left_angle   right_angle\n",
       "count  38187.000000  38187.000000  38187.000000\n",
       "mean       9.297321     15.853373     24.712376\n",
       "std        2.158881      4.295489     15.710972\n",
       "min        6.020000      3.730000    -10.200000\n",
       "25%        7.490000     12.300000     10.500000\n",
       "50%        9.050000     16.000000     24.100000\n",
       "75%       11.100000     19.400000     40.000000\n",
       "max       15.400000     29.700000     61.900000"
      ],
      "text/html": "<div>\n<style scoped>\n    .dataframe tbody tr th:only-of-type {\n        vertical-align: middle;\n    }\n\n    .dataframe tbody tr th {\n        vertical-align: top;\n    }\n\n    .dataframe thead th {\n        text-align: right;\n    }\n</style>\n<table border=\"1\" class=\"dataframe\">\n  <thead>\n    <tr style=\"text-align: right;\">\n      <th></th>\n      <th>back_angle</th>\n      <th>left_angle</th>\n      <th>right_angle</th>\n    </tr>\n  </thead>\n  <tbody>\n    <tr>\n      <th>count</th>\n      <td>38187.000000</td>\n      <td>38187.000000</td>\n      <td>38187.000000</td>\n    </tr>\n    <tr>\n      <th>mean</th>\n      <td>9.297321</td>\n      <td>15.853373</td>\n      <td>24.712376</td>\n    </tr>\n    <tr>\n      <th>std</th>\n      <td>2.158881</td>\n      <td>4.295489</td>\n      <td>15.710972</td>\n    </tr>\n    <tr>\n      <th>min</th>\n      <td>6.020000</td>\n      <td>3.730000</td>\n      <td>-10.200000</td>\n    </tr>\n    <tr>\n      <th>25%</th>\n      <td>7.490000</td>\n      <td>12.300000</td>\n      <td>10.500000</td>\n    </tr>\n    <tr>\n      <th>50%</th>\n      <td>9.050000</td>\n      <td>16.000000</td>\n      <td>24.100000</td>\n    </tr>\n    <tr>\n      <th>75%</th>\n      <td>11.100000</td>\n      <td>19.400000</td>\n      <td>40.000000</td>\n    </tr>\n    <tr>\n      <th>max</th>\n      <td>15.400000</td>\n      <td>29.700000</td>\n      <td>61.900000</td>\n    </tr>\n  </tbody>\n</table>\n</div>"
     },
     "metadata": {},
     "execution_count": 3
    }
   ],
   "source": [
    "'''Run the script'''\n",
    "# path to local storage directory\n",
    "backlock_on = False\n",
    "source_file_path = '/Users/jamesmeyer/University of Bath/Patient Simulator FYP - General/datasets/patient/dr-adlams-data/'\n",
    "\n",
    "df = data_extractor(source_file_path)\n",
    "\n",
    "angle_df = data_filterer(df)\n",
    "\n",
    "no_lock_df = backlock_remover(angle_df, 25000, 51000, backlock_on)\n",
    "\n",
    "\n",
    "no_lock_df[['back_angle', 'left_angle', 'right_angle']].describe()"
   ]
  },
  {
   "cell_type": "code",
   "execution_count": 7,
   "metadata": {},
   "outputs": [
    {
     "output_type": "stream",
     "name": "stdout",
     "text": [
      "\n",
      "Resampling the data from 30Hz to 20Hz \n",
      "\n",
      "Resampled 20Hz corresponding angles between skeleton coordinates\n",
      "      action subject frame  back_angle  left_angle  right_angle\n",
      "0          1       1     1   35.692594   51.789045    68.605345\n",
      "1          1       1     2   34.536857   51.499679    68.621091\n",
      "2          1       1     3   35.005072   51.593061    68.631830\n",
      "3          1       1     4   34.781000   51.515678    68.641521\n",
      "4          1       1     5   35.010225   51.551436    68.657079\n",
      "...      ...     ...   ...         ...         ...          ...\n",
      "14217     14      10   129   25.135101   51.356291    92.885183\n",
      "14218     14      10   130   27.397630   49.278682    90.760399\n",
      "14219     14      10   131   30.722371   52.755649    86.679160\n",
      "14220     14      10   132   34.124980   46.591635    82.393440\n",
      "14221     14      10   133   34.266216   56.419170    77.542189\n",
      "\n",
      "[14222 rows x 6 columns]\n"
     ]
    },
    {
     "output_type": "execute_result",
     "data": {
      "text/plain": [
       "         back_angle    left_angle   right_angle\n",
       "count  14222.000000  14222.000000  14222.000000\n",
       "mean      32.096763     66.308188     65.784556\n",
       "std       18.718297     18.507260     20.745979\n",
       "min       -0.295553      2.338146      2.248692\n",
       "25%       11.565802     52.391768     50.836504\n",
       "50%       40.727614     66.439698     66.332489\n",
       "75%       45.316735     78.284798     80.635848\n",
       "max      100.667154    178.473911    162.708799"
      ],
      "text/html": "<div>\n<style scoped>\n    .dataframe tbody tr th:only-of-type {\n        vertical-align: middle;\n    }\n\n    .dataframe tbody tr th {\n        vertical-align: top;\n    }\n\n    .dataframe thead th {\n        text-align: right;\n    }\n</style>\n<table border=\"1\" class=\"dataframe\">\n  <thead>\n    <tr style=\"text-align: right;\">\n      <th></th>\n      <th>back_angle</th>\n      <th>left_angle</th>\n      <th>right_angle</th>\n    </tr>\n  </thead>\n  <tbody>\n    <tr>\n      <th>count</th>\n      <td>14222.000000</td>\n      <td>14222.000000</td>\n      <td>14222.000000</td>\n    </tr>\n    <tr>\n      <th>mean</th>\n      <td>32.096763</td>\n      <td>66.308188</td>\n      <td>65.784556</td>\n    </tr>\n    <tr>\n      <th>std</th>\n      <td>18.718297</td>\n      <td>18.507260</td>\n      <td>20.745979</td>\n    </tr>\n    <tr>\n      <th>min</th>\n      <td>-0.295553</td>\n      <td>2.338146</td>\n      <td>2.248692</td>\n    </tr>\n    <tr>\n      <th>25%</th>\n      <td>11.565802</td>\n      <td>52.391768</td>\n      <td>50.836504</td>\n    </tr>\n    <tr>\n      <th>50%</th>\n      <td>40.727614</td>\n      <td>66.439698</td>\n      <td>66.332489</td>\n    </tr>\n    <tr>\n      <th>75%</th>\n      <td>45.316735</td>\n      <td>78.284798</td>\n      <td>80.635848</td>\n    </tr>\n    <tr>\n      <th>max</th>\n      <td>100.667154</td>\n      <td>178.473911</td>\n      <td>162.708799</td>\n    </tr>\n  </tbody>\n</table>\n</div>"
     },
     "metadata": {},
     "execution_count": 7
    }
   ],
   "source": [
    "# path to local storage directory\n",
    "source_file_path = '/Users/jamesmeyer/University of Bath/Patient Simulator FYP - General/datasets/control/sitting-skeleton-txts/'\n",
    "\n",
    "dest_file_path = '/Users/jamesmeyer/University of Bath/Patient Simulator FYP - General/datasets/control/'\n",
    "\n",
    "file_save = False\n",
    "\n",
    "# _ = txt_extract_and_filter(source_file_path, dest_file_path, file_save)\n",
    "# df = coords_to_angles(dest_file_path, file_save)\n",
    "resamp_angle_df = resampler(30, 20, dest_file_path, file_save)\n",
    "resamp_angle_df.describe()"
   ]
  },
  {
   "cell_type": "code",
   "execution_count": null,
   "metadata": {},
   "outputs": [],
   "source": []
  }
 ]
}