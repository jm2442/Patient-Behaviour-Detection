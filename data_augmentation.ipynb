{
 "metadata": {
  "language_info": {
   "codemirror_mode": {
    "name": "ipython",
    "version": 3
   },
   "file_extension": ".py",
   "mimetype": "text/x-python",
   "name": "python",
   "nbconvert_exporter": "python",
   "pygments_lexer": "ipython3",
   "version": "3.9.0-final"
  },
  "orig_nbformat": 2,
  "kernelspec": {
   "name": "python390jvsc74a57bd04b32d957ae14993447171578449795bdfe8cab497445f399cd6386fc19c465cc",
   "display_name": "Python 3.9.0 64-bit ('fyp-env')"
  }
 },
 "nbformat": 4,
 "nbformat_minor": 2,
 "cells": [
  {
   "source": [
    "# Data Augmentation\n",
    "## Purpose of this notebook is to take both prepped datasets and combined into a singular dataset ready to train models with"
   ],
   "cell_type": "markdown",
   "metadata": {}
  },
  {
   "cell_type": "code",
   "execution_count": 251,
   "metadata": {},
   "outputs": [],
   "source": [
    "# Import required libraries\n",
    "import numpy as np\n",
    "import pandas as pd\n",
    "from matplotlib import pyplot as plt\n",
    "from sklearn.preprocessing import MinMaxScaler, StandardScaler\n",
    "import datetime\n",
    "import os.path"
   ]
  },
  {
   "cell_type": "code",
   "execution_count": 252,
   "metadata": {},
   "outputs": [],
   "source": [
    "# Constants for changing\n",
    "WINDOW_SIZE = 20\n",
    "SENSORS = ['back_angle', 'left_angle', 'right_angle']# ,'back_1der' , 'left_1der', 'right_1der', 'back_2der', 'left_2der', 'right_2der']\n",
    "PLOT_ON = False"
   ]
  },
  {
   "source": [
    "### First retrieve the patient data"
   ],
   "cell_type": "markdown",
   "metadata": {}
  },
  {
   "cell_type": "code",
   "execution_count": 253,
   "metadata": {},
   "outputs": [
    {
     "output_type": "stream",
     "name": "stdout",
     "text": [
      "   action  subject  frame  index  back_angle  left_angle  right_angle  \\\n0     NaN      NaN    NaN    0.0    0.424307    0.572584     0.215395   \n1     NaN      NaN    NaN    1.0    0.456290    0.568733     0.200416   \n2     NaN      NaN    NaN    2.0    0.488273    0.564883     0.200416   \n3     NaN      NaN    NaN    3.0    0.530917    0.557181     0.201110   \n4     NaN      NaN    NaN    4.0    0.573561    0.541779     0.200416   \n\n                 datetime  back_1der  left_1der  right_1der     back_2der  \\\n0 2011-12-01 11:04:05.000   0.028175   0.000385   -0.011288  4.568992e-03   \n1 2011-12-01 11:04:05.050   0.032744  -0.003466   -0.007107  4.568992e-03   \n2 2011-12-01 11:04:05.100   0.037313  -0.007316   -0.002926  4.568992e-03   \n3 2011-12-01 11:04:05.150   0.038380  -0.013092    0.000083 -2.775558e-16   \n4 2011-12-01 11:04:05.200   0.037313  -0.018868   -0.000083 -4.568992e-03   \n\n   left_2der  right_2der  \n0  -0.003851    0.004181  \n1  -0.003851    0.004181  \n2  -0.003851    0.004181  \n3  -0.007701   -0.000079  \n4  -0.006051   -0.000238  \n"
     ]
    }
   ],
   "source": [
    "# Retrieve data and place with pd dataframe\n",
    "patient_file_path = '/Users/jamesmeyer/University of Bath/Patient Simulator FYP - General/datasets/patient/'\n",
    "patient_file_name = 'patient_data.csv'\n",
    "dataframe = pd.read_csv(f'{patient_file_path}{patient_file_name}', parse_dates=['datetime'])\n",
    "print(dataframe.head())"
   ]
  },
  {
   "cell_type": "code",
   "execution_count": 254,
   "metadata": {},
   "outputs": [
    {
     "output_type": "execute_result",
     "data": {
      "text/plain": [
       "       back_angle  left_angle  right_angle                    Date\n",
       "38182    0.626866    0.276088     0.527046 2011-12-01 11:35:54.100\n",
       "38183    0.626866    0.276088     0.525659 2011-12-01 11:35:54.150\n",
       "38184    0.616205    0.276088     0.524272 2011-12-01 11:35:54.200\n",
       "38185    0.616205    0.276088     0.524272 2011-12-01 11:35:54.250\n",
       "38186    0.616205    0.276088     0.524272 2011-12-01 11:35:54.300"
      ],
      "text/html": "<div>\n<style scoped>\n    .dataframe tbody tr th:only-of-type {\n        vertical-align: middle;\n    }\n\n    .dataframe tbody tr th {\n        vertical-align: top;\n    }\n\n    .dataframe thead th {\n        text-align: right;\n    }\n</style>\n<table border=\"1\" class=\"dataframe\">\n  <thead>\n    <tr style=\"text-align: right;\">\n      <th></th>\n      <th>back_angle</th>\n      <th>left_angle</th>\n      <th>right_angle</th>\n      <th>Date</th>\n    </tr>\n  </thead>\n  <tbody>\n    <tr>\n      <th>38182</th>\n      <td>0.626866</td>\n      <td>0.276088</td>\n      <td>0.527046</td>\n      <td>2011-12-01 11:35:54.100</td>\n    </tr>\n    <tr>\n      <th>38183</th>\n      <td>0.626866</td>\n      <td>0.276088</td>\n      <td>0.525659</td>\n      <td>2011-12-01 11:35:54.150</td>\n    </tr>\n    <tr>\n      <th>38184</th>\n      <td>0.616205</td>\n      <td>0.276088</td>\n      <td>0.524272</td>\n      <td>2011-12-01 11:35:54.200</td>\n    </tr>\n    <tr>\n      <th>38185</th>\n      <td>0.616205</td>\n      <td>0.276088</td>\n      <td>0.524272</td>\n      <td>2011-12-01 11:35:54.250</td>\n    </tr>\n    <tr>\n      <th>38186</th>\n      <td>0.616205</td>\n      <td>0.276088</td>\n      <td>0.524272</td>\n      <td>2011-12-01 11:35:54.300</td>\n    </tr>\n  </tbody>\n</table>\n</div>"
     },
     "metadata": {},
     "execution_count": 254
    }
   ],
   "source": [
    "# Obtaining only the required columns\n",
    "patient_df = dataframe.loc[:,SENSORS]\n",
    "patient_df.loc[:,'Date'] = pd.to_datetime(dataframe.loc[:,'datetime'])\n",
    "patient_df.tail()"
   ]
  },
  {
   "cell_type": "code",
   "execution_count": 255,
   "metadata": {},
   "outputs": [],
   "source": [
    "# Initial plot of data\n",
    "if PLOT_ON:\n",
    "    patient_df.plot(subplots=True, figsize=(16, 16), x='Date')"
   ]
  },
  {
   "cell_type": "code",
   "execution_count": 256,
   "metadata": {},
   "outputs": [
    {
     "output_type": "stream",
     "name": "stdout",
     "text": [
      "(7638, 4)\n(22913, 4)\n(38187, 4)\n"
     ]
    }
   ],
   "source": [
    "# Split test and train data\n",
    "# patient_train = patient_df.loc[patient_df['Date'] <= '2011-12-01 11:38:00'] \n",
    "# patient_test = patient_df.loc[patient_df['Date'] > '2011-12-01 11:38:00']\n",
    "# print(\"Not really being used at this stage\")\n",
    "\n",
    "# Split train and test data according to the new division 29/04/21\n",
    "major = int(patient_df.shape[0] * 0.8)\n",
    "major_train = patient_df.iloc[:major, :]\n",
    "major_test = patient_df.iloc[major:, :]\n",
    "\n",
    "print(major_test.shape)\n",
    "\n",
    "minor = int(patient_df.shape[0] * 0.4)\n",
    "minor_train = patient_df.iloc[:minor, :]\n",
    "minor_test = patient_df.iloc[minor:, :]\n",
    "\n",
    "print(minor_test.shape)\n",
    "\n",
    "full_test = patient_df.iloc[:, :]\n",
    "\n",
    "print(full_test.shape)"
   ]
  },
  {
   "source": [
    "### Then retrieve the control data"
   ],
   "cell_type": "markdown",
   "metadata": {}
  },
  {
   "cell_type": "code",
   "execution_count": 257,
   "metadata": {},
   "outputs": [
    {
     "output_type": "execute_result",
     "data": {
      "text/plain": [
       "   action  subject  frame  back_angle  left_angle  right_angle  back_1der  \\\n",
       "0       1        1      1    0.309028    0.052406     0.991990  -0.059143   \n",
       "1       1        1      2    0.212165    0.023802     0.993044  -0.034267   \n",
       "2       1        1      3    0.251407    0.033033     0.993763  -0.009392   \n",
       "3       1        1      4    0.232627    0.025384     0.994412   0.006291   \n",
       "4       1        1      5    0.251839    0.028918     0.995454   0.002175   \n",
       "\n",
       "   left_1der  right_1der  back_2der  left_2der  right_2der  \n",
       "0  -0.018081    0.000857   0.024875   0.006771   -0.000014  \n",
       "1  -0.011310    0.000843   0.024875   0.006771   -0.000014  \n",
       "2  -0.004539    0.000830   0.024875   0.006771   -0.000014  \n",
       "3  -0.000403    0.000699  -0.008194  -0.002490   -0.000081  \n",
       "4  -0.001812    0.000567   0.005269   0.001213   -0.000224  "
      ],
      "text/html": "<div>\n<style scoped>\n    .dataframe tbody tr th:only-of-type {\n        vertical-align: middle;\n    }\n\n    .dataframe tbody tr th {\n        vertical-align: top;\n    }\n\n    .dataframe thead th {\n        text-align: right;\n    }\n</style>\n<table border=\"1\" class=\"dataframe\">\n  <thead>\n    <tr style=\"text-align: right;\">\n      <th></th>\n      <th>action</th>\n      <th>subject</th>\n      <th>frame</th>\n      <th>back_angle</th>\n      <th>left_angle</th>\n      <th>right_angle</th>\n      <th>back_1der</th>\n      <th>left_1der</th>\n      <th>right_1der</th>\n      <th>back_2der</th>\n      <th>left_2der</th>\n      <th>right_2der</th>\n    </tr>\n  </thead>\n  <tbody>\n    <tr>\n      <th>0</th>\n      <td>1</td>\n      <td>1</td>\n      <td>1</td>\n      <td>0.309028</td>\n      <td>0.052406</td>\n      <td>0.991990</td>\n      <td>-0.059143</td>\n      <td>-0.018081</td>\n      <td>0.000857</td>\n      <td>0.024875</td>\n      <td>0.006771</td>\n      <td>-0.000014</td>\n    </tr>\n    <tr>\n      <th>1</th>\n      <td>1</td>\n      <td>1</td>\n      <td>2</td>\n      <td>0.212165</td>\n      <td>0.023802</td>\n      <td>0.993044</td>\n      <td>-0.034267</td>\n      <td>-0.011310</td>\n      <td>0.000843</td>\n      <td>0.024875</td>\n      <td>0.006771</td>\n      <td>-0.000014</td>\n    </tr>\n    <tr>\n      <th>2</th>\n      <td>1</td>\n      <td>1</td>\n      <td>3</td>\n      <td>0.251407</td>\n      <td>0.033033</td>\n      <td>0.993763</td>\n      <td>-0.009392</td>\n      <td>-0.004539</td>\n      <td>0.000830</td>\n      <td>0.024875</td>\n      <td>0.006771</td>\n      <td>-0.000014</td>\n    </tr>\n    <tr>\n      <th>3</th>\n      <td>1</td>\n      <td>1</td>\n      <td>4</td>\n      <td>0.232627</td>\n      <td>0.025384</td>\n      <td>0.994412</td>\n      <td>0.006291</td>\n      <td>-0.000403</td>\n      <td>0.000699</td>\n      <td>-0.008194</td>\n      <td>-0.002490</td>\n      <td>-0.000081</td>\n    </tr>\n    <tr>\n      <th>4</th>\n      <td>1</td>\n      <td>1</td>\n      <td>5</td>\n      <td>0.251839</td>\n      <td>0.028918</td>\n      <td>0.995454</td>\n      <td>0.002175</td>\n      <td>-0.001812</td>\n      <td>0.000567</td>\n      <td>0.005269</td>\n      <td>0.001213</td>\n      <td>-0.000224</td>\n    </tr>\n  </tbody>\n</table>\n</div>"
     },
     "metadata": {},
     "execution_count": 257
    }
   ],
   "source": [
    "# Location of processed control data\n",
    "control_file_path = '/Users/jamesmeyer/University of Bath/Patient Simulator FYP - General/datasets/control/'\n",
    "control_file_name = 'control_data.csv'\n",
    "\n",
    "# Load the data in pd df\n",
    "control_df = pd.read_csv(f'{control_file_path}{control_file_name}', index_col=False)\n",
    "control_df.head()"
   ]
  },
  {
   "source": [
    "### Now to convert both to windowed sequences and combine for model training"
   ],
   "cell_type": "markdown",
   "metadata": {}
  },
  {
   "cell_type": "code",
   "execution_count": 258,
   "metadata": {},
   "outputs": [],
   "source": [
    "def to_sequences(x, seq_size=1):\n",
    "    '''Function to return windowed versions'''\n",
    "    x_values = []\n",
    "\n",
    "    for i in range(len(x)-seq_size):\n",
    "        x_values.append(x.iloc[i:(i+seq_size)].values)\n",
    "        \n",
    "    return np.array(x_values)"
   ]
  },
  {
   "cell_type": "code",
   "execution_count": 259,
   "metadata": {},
   "outputs": [],
   "source": [
    "# Convert all to sequences\n",
    "\n",
    "# patient_major_train\n",
    "# patient_major_test\n",
    "# patient_minor_train \n",
    "# patient_minor_test\n",
    "# patient_full_test\n",
    "\n",
    "patient_major_train = to_sequences(major_train[SENSORS], WINDOW_SIZE)\n",
    "patient_major_test = to_sequences(major_test[SENSORS], WINDOW_SIZE)\n",
    "patient_minor_train = to_sequences(minor_train[SENSORS], WINDOW_SIZE)\n",
    "patient_minor_test = to_sequences(minor_test[SENSORS], WINDOW_SIZE)\n",
    "patient_full_test = to_sequences(full_test[SENSORS], WINDOW_SIZE)"
   ]
  },
  {
   "cell_type": "code",
   "execution_count": 260,
   "metadata": {},
   "outputs": [],
   "source": [
    "# Control data is harder because the data itself is segmented between individuals and actions so only windows from same action and person can be extracted\n",
    "\n",
    "# Loop through each action and subject\n",
    "action_nos = [1, 2, 3, 4, 5, 6, 8, 9, 10, 11, 14]\n",
    "subject_nos = list(range(1,11))\n",
    "\n",
    "extract_data = []\n",
    "for action in action_nos:\n",
    "    for subject in subject_nos:\n",
    "        sample = control_df.loc[(control_df['action'] == action) & (control_df['subject'] == subject), SENSORS]\n",
    "        control_samples = to_sequences(sample, WINDOW_SIZE)\n",
    "        extract_data.extend(control_samples)\n",
    "control_train = np.array(extract_data)"
   ]
  },
  {
   "cell_type": "code",
   "execution_count": 261,
   "metadata": {},
   "outputs": [
    {
     "output_type": "stream",
     "name": "stdout",
     "text": [
      "Number of control training samples: (12022, 20, 3)\n"
     ]
    }
   ],
   "source": [
    "print(f'Number of control training samples: {control_train.shape}')"
   ]
  },
  {
   "source": [
    "## Combinations"
   ],
   "cell_type": "markdown",
   "metadata": {}
  },
  {
   "cell_type": "code",
   "execution_count": 262,
   "metadata": {},
   "outputs": [
    {
     "output_type": "stream",
     "name": "stdout",
     "text": [
      "Number of combined training samples: (27276, 20, 3)\n"
     ]
    }
   ],
   "source": [
    "augment_train = np.append(patient_minor_train, control_train, axis=0)\n",
    "print(f'Number of combined training samples: {augment_train.shape}')"
   ]
  },
  {
   "cell_type": "code",
   "execution_count": 263,
   "metadata": {},
   "outputs": [],
   "source": [
    "# Set up saves\n",
    "output_file_path = '/Users/jamesmeyer/University of Bath/Patient Simulator FYP - General/datasets/'\n",
    "\n",
    "deriv_flag = False\n",
    "for data in SENSORS:\n",
    "    if 'der' in data:\n",
    "\n",
    "        deriv_flag = True\n",
    "        break\n",
    "\n",
    "output_id = f'ws{WINDOW_SIZE}num{len(SENSORS)}der{deriv_flag}'"
   ]
  },
  {
   "cell_type": "code",
   "execution_count": 264,
   "metadata": {},
   "outputs": [
    {
     "output_type": "stream",
     "name": "stdout",
     "text": [
      "Saved to: /Users/jamesmeyer/University of Bath/Patient Simulator FYP - General/datasets/ws20num3derFalse\n"
     ]
    }
   ],
   "source": [
    "path = output_file_path + output_id\n",
    "\n",
    "np.save(f'{path}-patient-train.npy', patient_major_train)\n",
    "np.save(f'{path}-patient-major-test.npy', patient_major_test)\n",
    "np.save(f'{path}-augment-train.npy', augment_train)\n",
    "np.save(f'{path}-patient-minor-test.npy', patient_minor_test)\n",
    "np.save(f'{path}-control-train.npy', control_train)\n",
    "np.save(f'{path}-patient-full-test.npy', patient_full_test)\n",
    "\n",
    "\n",
    "print(f'Saved to: {path}')"
   ]
  },
  {
   "cell_type": "code",
   "execution_count": 265,
   "metadata": {},
   "outputs": [],
   "source": [
    "major_test.to_csv (f'{output_file_path}major-test-{WINDOW_SIZE}.csv', index=False)\n",
    "minor_test.to_csv (f'{output_file_path}minor-test-{WINDOW_SIZE}.csv', index=False)\n",
    "full_test.to_csv (f'{output_file_path}full-test-{WINDOW_SIZE}.csv', index=False)"
   ]
  }
 ]
}